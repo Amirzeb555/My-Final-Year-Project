{
 "cells": [
  {
   "cell_type": "code",
   "execution_count": 11,
   "metadata": {},
   "outputs": [
    {
     "name": "stdout",
     "output_type": "stream",
     "text": [
      "bidmc-congestive-heart-failure-database-1.0.0_2\\files\\ANNOTATORS\n",
      "bidmc-congestive-heart-failure-database-1.0.0_2\\files\\Beth medical Work.ipynb\n",
      "bidmc-congestive-heart-failure-database-1.0.0_2\\files\\chf01.csv\n",
      "bidmc-congestive-heart-failure-database-1.0.0_2\\files\\chf01.dat\n",
      "bidmc-congestive-heart-failure-database-1.0.0_2\\files\\chf01.ecg\n",
      "bidmc-congestive-heart-failure-database-1.0.0_2\\files\\chf01.hea\n",
      "bidmc-congestive-heart-failure-database-1.0.0_2\\files\\chf01.hea-\n",
      "bidmc-congestive-heart-failure-database-1.0.0_2\\files\\chf02.dat\n",
      "bidmc-congestive-heart-failure-database-1.0.0_2\\files\\chf02.ecg\n",
      "bidmc-congestive-heart-failure-database-1.0.0_2\\files\\chf02.ecg-\n",
      "bidmc-congestive-heart-failure-database-1.0.0_2\\files\\chf02.hea\n",
      "bidmc-congestive-heart-failure-database-1.0.0_2\\files\\chf02.hea-\n",
      "bidmc-congestive-heart-failure-database-1.0.0_2\\files\\chf03.dat\n",
      "bidmc-congestive-heart-failure-database-1.0.0_2\\files\\chf03.ecg\n",
      "bidmc-congestive-heart-failure-database-1.0.0_2\\files\\chf03.hea\n",
      "bidmc-congestive-heart-failure-database-1.0.0_2\\files\\chf03.hea-\n",
      "bidmc-congestive-heart-failure-database-1.0.0_2\\files\\chf04.dat\n",
      "bidmc-congestive-heart-failure-database-1.0.0_2\\files\\chf04.ecg\n",
      "bidmc-congestive-heart-failure-database-1.0.0_2\\files\\chf04.ecg-\n",
      "bidmc-congestive-heart-failure-database-1.0.0_2\\files\\chf04.hea\n",
      "bidmc-congestive-heart-failure-database-1.0.0_2\\files\\chf04.hea-\n",
      "bidmc-congestive-heart-failure-database-1.0.0_2\\files\\chf05.dat\n",
      "bidmc-congestive-heart-failure-database-1.0.0_2\\files\\chf05.ecg\n",
      "bidmc-congestive-heart-failure-database-1.0.0_2\\files\\chf05.hea\n",
      "bidmc-congestive-heart-failure-database-1.0.0_2\\files\\chf05.hea-\n",
      "bidmc-congestive-heart-failure-database-1.0.0_2\\files\\chf06.dat\n",
      "bidmc-congestive-heart-failure-database-1.0.0_2\\files\\chf06.ecg\n",
      "bidmc-congestive-heart-failure-database-1.0.0_2\\files\\chf06.hea\n",
      "bidmc-congestive-heart-failure-database-1.0.0_2\\files\\chf06.hea-\n",
      "bidmc-congestive-heart-failure-database-1.0.0_2\\files\\chf07.dat\n",
      "bidmc-congestive-heart-failure-database-1.0.0_2\\files\\chf07.ecg\n",
      "bidmc-congestive-heart-failure-database-1.0.0_2\\files\\chf07.hea\n",
      "bidmc-congestive-heart-failure-database-1.0.0_2\\files\\chf07.hea-\n",
      "bidmc-congestive-heart-failure-database-1.0.0_2\\files\\chf08.dat\n",
      "bidmc-congestive-heart-failure-database-1.0.0_2\\files\\chf08.ecg\n",
      "bidmc-congestive-heart-failure-database-1.0.0_2\\files\\chf08.hea\n",
      "bidmc-congestive-heart-failure-database-1.0.0_2\\files\\chf08.hea-\n",
      "bidmc-congestive-heart-failure-database-1.0.0_2\\files\\chf09.dat\n",
      "bidmc-congestive-heart-failure-database-1.0.0_2\\files\\chf09.ecg\n",
      "bidmc-congestive-heart-failure-database-1.0.0_2\\files\\chf09.hea\n",
      "bidmc-congestive-heart-failure-database-1.0.0_2\\files\\chf09.hea-\n",
      "bidmc-congestive-heart-failure-database-1.0.0_2\\files\\chf10.dat\n",
      "bidmc-congestive-heart-failure-database-1.0.0_2\\files\\chf10.ecg\n",
      "bidmc-congestive-heart-failure-database-1.0.0_2\\files\\chf10.hea\n",
      "bidmc-congestive-heart-failure-database-1.0.0_2\\files\\chf10.hea-\n",
      "bidmc-congestive-heart-failure-database-1.0.0_2\\files\\chf11.dat\n",
      "bidmc-congestive-heart-failure-database-1.0.0_2\\files\\chf11.ecg\n",
      "bidmc-congestive-heart-failure-database-1.0.0_2\\files\\chf11.hea\n",
      "bidmc-congestive-heart-failure-database-1.0.0_2\\files\\chf11.hea-\n",
      "bidmc-congestive-heart-failure-database-1.0.0_2\\files\\chf12.dat\n",
      "bidmc-congestive-heart-failure-database-1.0.0_2\\files\\chf12.ecg\n",
      "bidmc-congestive-heart-failure-database-1.0.0_2\\files\\chf12.hea\n",
      "bidmc-congestive-heart-failure-database-1.0.0_2\\files\\chf12.hea-\n",
      "bidmc-congestive-heart-failure-database-1.0.0_2\\files\\chf13.dat\n",
      "bidmc-congestive-heart-failure-database-1.0.0_2\\files\\chf13.ecg\n",
      "bidmc-congestive-heart-failure-database-1.0.0_2\\files\\chf13.hea\n",
      "bidmc-congestive-heart-failure-database-1.0.0_2\\files\\chf13.hea-\n",
      "bidmc-congestive-heart-failure-database-1.0.0_2\\files\\chf14.dat\n",
      "bidmc-congestive-heart-failure-database-1.0.0_2\\files\\chf14.ecg\n",
      "bidmc-congestive-heart-failure-database-1.0.0_2\\files\\chf14.hea\n",
      "bidmc-congestive-heart-failure-database-1.0.0_2\\files\\chf14.hea-\n",
      "bidmc-congestive-heart-failure-database-1.0.0_2\\files\\chf15.dat\n",
      "bidmc-congestive-heart-failure-database-1.0.0_2\\files\\chf15.ecg\n",
      "bidmc-congestive-heart-failure-database-1.0.0_2\\files\\chf15.hea\n",
      "bidmc-congestive-heart-failure-database-1.0.0_2\\files\\chf15.hea-\n",
      "bidmc-congestive-heart-failure-database-1.0.0_2\\files\\csv file work in heart.ipynb\n",
      "bidmc-congestive-heart-failure-database-1.0.0_2\\files\\dat.csv\n",
      "bidmc-congestive-heart-failure-database-1.0.0_2\\files\\dataDictionary.csv\n",
      "bidmc-congestive-heart-failure-database-1.0.0_2\\files\\dat_md.csv\n",
      "bidmc-congestive-heart-failure-database-1.0.0_2\\files\\files_list.csv\n",
      "bidmc-congestive-heart-failure-database-1.0.0_2\\files\\RECORDS\n",
      "bidmc-congestive-heart-failure-database-1.0.0_2\\files\\script (1).ipynb\n",
      "bidmc-congestive-heart-failure-database-1.0.0_2\\files\\SHA256SUMS.txt\n",
      "bidmc-congestive-heart-failure-database-1.0.0_2\\files\\Untitled.ipynb\n",
      "bidmc-congestive-heart-failure-database-1.0.0_2\\files\\.ipynb_checkpoints\\Beth medical Work-checkpoint.ipynb\n",
      "bidmc-congestive-heart-failure-database-1.0.0_2\\files\\.ipynb_checkpoints\\csv file work in heart-checkpoint.ipynb\n",
      "bidmc-congestive-heart-failure-database-1.0.0_2\\files\\.ipynb_checkpoints\\script (1)-checkpoint.ipynb\n",
      "bidmc-congestive-heart-failure-database-1.0.0_2\\files\\.ipynb_checkpoints\\Untitled-checkpoint.ipynb\n",
      "bidmc-congestive-heart-failure-database-1.0.0_2\\files\\tmp_dl_dir\\0001.atr\n",
      "bidmc-congestive-heart-failure-database-1.0.0_2\\files\\tmp_dl_dir\\0001.dat\n",
      "bidmc-congestive-heart-failure-database-1.0.0_2\\files\\tmp_dl_dir\\0001.hea\n",
      "bidmc-congestive-heart-failure-database-1.0.0_2\\files\\tmp_dl_dir\\0201.atr\n",
      "bidmc-congestive-heart-failure-database-1.0.0_2\\files\\tmp_dl_dir\\0201.dat\n",
      "bidmc-congestive-heart-failure-database-1.0.0_2\\files\\tmp_dl_dir\\0201.hea\n",
      "bidmc-congestive-heart-failure-database-1.0.0_2\\files\\tmp_dl_dir\\data\\001a.dat\n",
      "bidmc-congestive-heart-failure-database-1.0.0_2\\files\\tmp_dl_dir\\data\\001a.hea\n",
      "bidmc-congestive-heart-failure-database-1.0.0_2\\files\\tmp_dl_dir\\data\\001b.dat\n",
      "bidmc-congestive-heart-failure-database-1.0.0_2\\files\\tmp_dl_dir\\data\\001b.hea\n"
     ]
    }
   ],
   "source": [
    "import os\n",
    "for dirname, _, filenames in os.walk('bidmc-congestive-heart-failure-database-1.0.0_2'):\n",
    "    for filename in filenames:\n",
    "        print(os.path.join(dirname, filename))"
   ]
  },
  {
   "cell_type": "code",
   "execution_count": 2,
   "metadata": {},
   "outputs": [],
   "source": [
    "import wfdb\n",
    "from wfdb import processing\n",
    "import os\n",
    "import numpy as np\n",
    "import pandas as pd\n",
    "import pickle\n",
    "import matplotlib.pyplot as plt\n",
    "%matplotlib inline\n",
    "import scipy"
   ]
  },
  {
   "cell_type": "code",
   "execution_count": 12,
   "metadata": {},
   "outputs": [],
   "source": [
    "dir1 = 'bidmc-congestive-heart-failure-database-1.0.0_2'"
   ]
  },
  {
   "cell_type": "code",
   "execution_count": 4,
   "metadata": {},
   "outputs": [],
   "source": [
    "df1 = list()"
   ]
  },
  {
   "cell_type": "code",
   "execution_count": 13,
   "metadata": {},
   "outputs": [
    {
     "ename": "SyntaxError",
     "evalue": "keyword can't be an expression (<ipython-input-13-cd414efbef8d>, line 5)",
     "output_type": "error",
     "traceback": [
      "\u001b[1;36m  File \u001b[1;32m\"<ipython-input-13-cd414efbef8d>\"\u001b[1;36m, line \u001b[1;32m5\u001b[0m\n\u001b[1;33m    df_1 = pd.read_csv('bidmc-congestive-heart-failure-database-1.0.0_2'.header=None)\u001b[0m\n\u001b[1;37m                      ^\u001b[0m\n\u001b[1;31mSyntaxError\u001b[0m\u001b[1;31m:\u001b[0m keyword can't be an expression\n"
     ]
    }
   ],
   "source": [
    "for i in os.listdir(dir1):\n",
    "    if i.endswith(\".hea\"):\n",
    "        df1.append(i)\n",
    "df1 = pd.DataFrame(df1) \n",
    "df_1 = pd.read_csv('bidmc-congestive-heart-failure-database-1.0.0_2'.header=None)\n",
    "        "
   ]
  },
  {
   "cell_type": "code",
   "execution_count": null,
   "metadata": {},
   "outputs": [],
   "source": [
    "df_1.head()"
   ]
  },
  {
   "cell_type": "code",
   "execution_count": null,
   "metadata": {},
   "outputs": [],
   "source": [
    "print(df1.head()+\" \"+df2.head())"
   ]
  },
  {
   "cell_type": "code",
   "execution_count": null,
   "metadata": {},
   "outputs": [],
   "source": [
    " Display 1 record and its dictionary (from:100 - to:2100)\n",
    "record = wfdb.rdrecord('/kaggle/input/bidmc-congestive-heart-failure/files/chf01', sampfrom=100, sampto=2100)\n",
    "ann = wfdb.rdann('/kaggle/input/bidmc-congestive-heart-failure/files/chf01', 'ecg', sampfrom=100, sampto=2100)\n",
    "wfdb.plot_wfdb(record, ann)\n",
    "display(record.__dict__)"
   ]
  },
  {
   "cell_type": "code",
   "execution_count": null,
   "metadata": {},
   "outputs": [],
   "source": [
    "plt.plot(record.p_signal)\n",
    "print(\"Signal length: \" + str(len(record.p_signal)))"
   ]
  },
  {
   "cell_type": "code",
   "execution_count": null,
   "metadata": {},
   "outputs": [],
   "source": [
    "fs = 128\n",
    "new_sig, new_ann = wfdb.processing.resample_multichan(record.p_signal, ann, record.fs, fs_target = fs)\n",
    "record.fs = fs # Update record's fs\n",
    "print(\"New frequency sample: \" + str(record.fs))\n",
    "plt.plot(new_sig)\n",
    "print(\"New signal length: \" + str(len(new_sig))) "
   ]
  },
  {
   "cell_type": "code",
   "execution_count": null,
   "metadata": {},
   "outputs": [],
   "source": [
    "avg = new_sig.mean() # Count Mean once\n",
    "sd = new_sig.std() # Count SD once\n",
    "print(\"The average is \" + str(avg) + \"and the std is \" + str(sd))\n",
    "new_sig = (new_sig - avg)/(sd)\n",
    "plt.plot(new_sig);"
   ]
  },
  {
   "cell_type": "code",
   "execution_count": null,
   "metadata": {},
   "outputs": [],
   "source": [
    "# Extracting a beat every 5s (Incorrect way)\n",
    "# new_sig = new_sig[::5]\n",
    "# print(\"New signal length: \" + str(len(new_sig)))\n",
    "# plt.plot(new_sig);"
   ]
  },
  {
   "cell_type": "code",
   "execution_count": null,
   "metadata": {},
   "outputs": [],
   "source": [
    "# Update with pre-processed signal\n",
    "record.p_signal = new_sig\n",
    "record.sig_len = len(new_sig)\n",
    "wfdb.plot_wfdb(record, new_ann)\n",
    "display(record.__dict__)"
   ]
  },
  {
   "cell_type": "code",
   "execution_count": null,
   "metadata": {},
   "outputs": [],
   "source": [
    "# qrs = wfdb.processing.XQRS(record.p_signal[0], record.fs)\n",
    "peak_indices = wfdb.processing.gqrs_detect(record.p_signal, record.fs)\n",
    "# wfdb.processing.compute_hr(record.sig_len, peak_indices, record.fs)\n",
    "print(len(peak_indices))\n",
    "print(peak_indices)\n",
    "print(peak_indices[0], peak_indices[1])\n",
    "plt.plot(record.p_signal);\n",
    "plt.plot(record.p_signal[(peak_indices[0]):(peak_indices[1])]);\n",
    "# plt.plot(record.p_signal[(peak_indices[0]-30):(peak_indices[0]+50)]); # 30 samples before, 50 samples after\n",
    "# Figure out how to train with all these beats"
   ]
  },
  {
   "cell_type": "code",
   "execution_count": null,
   "metadata": {},
   "outputs": [],
   "source": []
  },
  {
   "cell_type": "code",
   "execution_count": null,
   "metadata": {},
   "outputs": [],
   "source": []
  },
  {
   "cell_type": "code",
   "execution_count": null,
   "metadata": {},
   "outputs": [],
   "source": []
  },
  {
   "cell_type": "code",
   "execution_count": null,
   "metadata": {},
   "outputs": [],
   "source": []
  },
  {
   "cell_type": "code",
   "execution_count": null,
   "metadata": {},
   "outputs": [],
   "source": []
  },
  {
   "cell_type": "code",
   "execution_count": null,
   "metadata": {},
   "outputs": [],
   "source": []
  },
  {
   "cell_type": "code",
   "execution_count": null,
   "metadata": {},
   "outputs": [],
   "source": []
  },
  {
   "cell_type": "code",
   "execution_count": null,
   "metadata": {},
   "outputs": [],
   "source": []
  }
 ],
 "metadata": {
  "kernelspec": {
   "display_name": "Python 3",
   "language": "python",
   "name": "python3"
  },
  "language_info": {
   "codemirror_mode": {
    "name": "ipython",
    "version": 3
   },
   "file_extension": ".py",
   "mimetype": "text/x-python",
   "name": "python",
   "nbconvert_exporter": "python",
   "pygments_lexer": "ipython3",
   "version": "3.6.5"
  }
 },
 "nbformat": 4,
 "nbformat_minor": 2
}
